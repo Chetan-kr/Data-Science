{
 "cells": [
  {
   "cell_type": "markdown",
   "id": "5bd908a2-f2ae-4991-abe9-85cb72299813",
   "metadata": {},
   "source": [
    "<center>\n",
    "    <img src=\"https://cf-courses-data.s3.us.cloud-object-storage.appdomain.cloud/IBMDeveloperSkillsNetwork-DS0105EN-SkillsNetwork/labs/Module2/images/SN_web_lightmode.png\" width=\"300\" alt=\"cognitiveclass.ai logo\">\n",
    "</center>"
   ]
  },
  {
   "cell_type": "markdown",
   "id": "280e2810-3be0-4cb5-a561-e3db03aea24a",
   "metadata": {},
   "source": [
    "# Data Science Tools and Ecosystem\n",
    "\n"
   ]
  },
  {
   "cell_type": "markdown",
   "id": "97960844-78c2-43b5-b06c-5b525f7a71e6",
   "metadata": {},
   "source": [
    "In this notebook, Data Science Tools and Ecosystem are summarized.\n",
    "\n",
    "-  Hadoop\n",
    "-  SQL\n",
    "-  MongoDB\n",
    "-  Business Intelligence Tableau\n",
    "-  Python\n",
    "-  R\n",
    "-  SPSS\n",
    "\n"
   ]
  },
  {
   "cell_type": "markdown",
   "id": "495108f1-e49f-4daa-8cde-012c313eaa33",
   "metadata": {},
   "source": [
    "Some of the popular languages that Data Scientists use are:\n",
    "1. python\n",
    "2. c++\n",
    "3. java"
   ]
  },
  {
   "cell_type": "markdown",
   "id": "8c5698e0-29f8-4616-9b06-5dfe840fa250",
   "metadata": {},
   "source": [
    "Some of the commonly used libraries used by Data Scientists include:\n",
    "\n",
    "-  pandas\n",
    "-  Numpy\n",
    "-  Scikit\n",
    "-  Tensorflow\n",
    "-  Scipy\n",
    "-  Matplotlib\n",
    "-  Keras"
   ]
  },
  {
   "cell_type": "markdown",
   "id": "15ae9732-a903-4ada-a64f-b1f0b41b486a",
   "metadata": {},
   "source": [
    "Data Science Tools in Table format\n",
    "| Data Science Tools |\n",
    "| --- |\n",
    "| Python |\n",
    "| R |\n",
    "| SQL |\n",
    "| Hadoop |\n",
    "| Pandas |\n",
    "| Numpy |\n",
    "| Scikit Learn |\n",
    "| Tableau |"
   ]
  },
  {
   "cell_type": "markdown",
   "id": "5277d13a-db61-476d-8247-8471444cf18a",
   "metadata": {},
   "source": [
    "### Below are a few examples of evaluating arithmetic expressions in Python\n",
    "1. Addition (+)\n",
    "2. Subtraction (−)\n",
    "3. Multiplication (*)\n",
    "4. Division (/)\n",
    "5. Exponentiation (^).\n"
   ]
  },
  {
   "cell_type": "code",
   "execution_count": 4,
   "id": "33409465-28cf-44ac-b1c0-0642b1372f7b",
   "metadata": {},
   "outputs": [
    {
     "data": {
      "text/plain": [
       "17"
      ]
     },
     "execution_count": 4,
     "metadata": {},
     "output_type": "execute_result"
    }
   ],
   "source": [
    "# This a simple arithmetic expression to mutiply then add integers\n",
    "Result = (3*4)+5\n",
    "Result"
   ]
  },
  {
   "cell_type": "code",
   "execution_count": 5,
   "id": "6378aca7-a5fa-4793-b37b-6a2f2cc29da1",
   "metadata": {},
   "outputs": [
    {
     "data": {
      "text/plain": [
       "3.3333333333333335"
      ]
     },
     "execution_count": 5,
     "metadata": {},
     "output_type": "execute_result"
    }
   ],
   "source": [
    "# Converting Minutes into hours\n",
    "minutes = 200\n",
    "hours = minutes/60\n",
    "hours"
   ]
  },
  {
   "cell_type": "markdown",
   "id": "365cfd97-634e-4ca1-97c8-3a51f938a787",
   "metadata": {},
   "source": [
    "**Objectives**\n",
    "List popular languages for Data Science\n",
    "\n",
    "-  Python.\n",
    "-  R.\n",
    "-  SQL.\n",
    "-  Java.\n",
    "-  Julia.\n",
    "-  Scala.\n",
    "-  C/C++\n",
    "-  JavaScript."
   ]
  },
  {
   "cell_type": "markdown",
   "id": "60bd74c5-f021-4324-a021-fd3364ba3785",
   "metadata": {},
   "source": [
    "## Author\n",
    "Chetan"
   ]
  }
 ],
 "metadata": {
  "kernelspec": {
   "display_name": "Python",
   "language": "python",
   "name": "conda-env-python-py"
  },
  "language_info": {
   "codemirror_mode": {
    "name": "ipython",
    "version": 3
   },
   "file_extension": ".py",
   "mimetype": "text/x-python",
   "name": "python",
   "nbconvert_exporter": "python",
   "pygments_lexer": "ipython3",
   "version": "3.7.12"
  }
 },
 "nbformat": 4,
 "nbformat_minor": 5
}
