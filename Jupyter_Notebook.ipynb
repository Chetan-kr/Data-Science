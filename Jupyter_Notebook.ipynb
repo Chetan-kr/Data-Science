{
 "cells": [
  {
   "cell_type": "markdown",
   "metadata": {},
   "source": [
    "<center>\n",
    "    <img src=\"https://cf-courses-data.s3.us.cloud-object-storage.appdomain.cloud/IBMDeveloperSkillsNetwork-DS0105EN-SkillsNetwork/labs/Module2/images/SN_web_lightmode.png\" width=\"300\" alt=\"cognitiveclass.ai logo\">\n",
    "</center>\n"
   ]
  },
  {
   "cell_type": "markdown",
   "metadata": {
    "tags": []
   },
   "source": [
    "#### Add your code below following the instructions given in the course\n"
   ]
  },
  {
   "cell_type": "markdown",
   "metadata": {
    "tags": []
   },
   "source": [
    "# My Jupyter Notebook on IBM Watson Studio\n"
   ]
  },
  {
   "cell_type": "markdown",
   "metadata": {
    "tags": []
   },
   "source": [
    "**Chetan**\n",
    "\n",
    "\n",
    "chetan Student at JC Bose University of Science and Technology, YMCA Faridabad,121006.\n",
    "I want to be a good Data Scientist.\n",
    "\n"
   ]
  },
  {
   "cell_type": "markdown",
   "metadata": {
    "tags": []
   },
   "source": [
    "*I want to be a Data Scientist. Because i curious about things related data and future prediction based on activities happened. Of course its a good career option for me.*"
   ]
  },
  {
   "cell_type": "markdown",
   "metadata": {
    "tags": []
   },
   "source": [
    "### Let's Sum of two Numbers\n"
   ]
  },
  {
   "cell_type": "code",
   "execution_count": 3,
   "metadata": {},
   "outputs": [
    {
     "name": "stdout",
     "output_type": "stream",
     "text": [
      "The sum of a and b is  20\n"
     ]
    }
   ],
   "source": [
    "a=10\n",
    "b=10\n",
    "c=a+b\n",
    "print(\"The sum of a and b is \",c)"
   ]
  },
  {
   "cell_type": "markdown",
   "metadata": {
    "tags": []
   },
   "source": [
    "***\n",
    "\n",
    "-  1\n",
    "-  2\n",
    "-  3\n",
    "-  4\n",
    "-  5\n",
    "\n",
    "<img src=“data:image/jpeg;base64,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” alt=“Himalya” title=“Himalya” />\n",
    "\n",
    "\n"
   ]
  }
 ],
 "metadata": {
  "kernelspec": {
   "display_name": "Python",
   "language": "python",
   "name": "conda-env-python-py"
  },
  "language_info": {
   "codemirror_mode": {
    "name": "ipython",
    "version": 3
   },
   "file_extension": ".py",
   "mimetype": "text/x-python",
   "name": "python",
   "nbconvert_exporter": "python",
   "pygments_lexer": "ipython3",
   "version": "3.7.12"
  }
 },
 "nbformat": 4,
 "nbformat_minor": 4
}
